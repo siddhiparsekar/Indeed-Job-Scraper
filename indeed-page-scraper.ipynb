{
 "cells": [
  {
   "cell_type": "markdown",
   "metadata": {},
   "source": [
    "# Scrape Indeed Job Pages"
   ]
  },
  {
   "cell_type": "markdown",
   "metadata": {},
   "source": [
    "The general strategy behind this method is that I am pulling all of the `job keys` from the paginated search results via regex. Then, I navigate to each job page and extract whatever data I want from each job page."
   ]
  },
  {
   "cell_type": "code",
   "execution_count": 1,
   "metadata": {},
   "outputs": [],
   "source": [
    "import re\n",
    "import csv\n",
    "import requests\n",
    "from bs4 import BeautifulSoup\n",
    "from time import sleep\n",
    "from random import randint"
   ]
  },
  {
   "cell_type": "code",
   "execution_count": 2,
   "metadata": {},
   "outputs": [],
   "source": [
    "# regex pattern to identify job keys\n",
    "jk_pattern = re.compile(r\"jk:\\'([a-zA-Z0-9]+)'\")"
   ]
  },
  {
   "cell_type": "code",
   "execution_count": 3,
   "metadata": {},
   "outputs": [],
   "source": [
    "# request parameters\n",
    "params = { \"q\": \"accountant\", \"l\": \"charlotte+nc\", \"start\": 0 }\n",
    "url = \"https://www.indeed.com/jobs\"\n",
    "job_keys = set()"
   ]
  },
  {
   "cell_type": "code",
   "execution_count": 4,
   "metadata": {},
   "outputs": [],
   "source": [
    "# get the first 10 pages as a test\n",
    "for x in range(10):\n",
    "    response = requests.get(url, params=params)\n",
    "    if not response.status_code == 200:\n",
    "        break\n",
    "    else:\n",
    "        keys = jk_pattern.findall(response.text)\n",
    "        if len(keys) > 0:\n",
    "            for key in keys:\n",
    "                job_keys.add(key)\n",
    "    \n",
    "    params['start'] += 20\n",
    "    sleep(randint(0, 3))"
   ]
  },
  {
   "cell_type": "code",
   "execution_count": 5,
   "metadata": {},
   "outputs": [
    {
     "data": {
      "text/plain": [
       "147"
      ]
     },
     "execution_count": 5,
     "metadata": {},
     "output_type": "execute_result"
    }
   ],
   "source": [
    "# count of keys collected\n",
    "len(job_keys)"
   ]
  },
  {
   "cell_type": "code",
   "execution_count": 6,
   "metadata": {},
   "outputs": [],
   "source": [
    "# job url template\n",
    "template = \"https://www.indeed.com/viewjob?jk={}\""
   ]
  },
  {
   "cell_type": "code",
   "execution_count": 11,
   "metadata": {},
   "outputs": [],
   "source": [
    "# raw html from job page.... scraping log to be applied with BeautifulSoup here...\n",
    "jk = job_keys.pop()\n",
    "job_url = template.format(jk)\n",
    "response = requests.get(job_url)"
   ]
  },
  {
   "cell_type": "code",
   "execution_count": 13,
   "metadata": {},
   "outputs": [],
   "source": [
    "soup = BeautifulSoup(response.text, 'html.parser')"
   ]
  },
  {
   "cell_type": "code",
   "execution_count": 17,
   "metadata": {},
   "outputs": [
    {
     "name": "stdout",
     "output_type": "stream",
     "text": [
      "Job Description\n",
      "DPR Construction is seeking a project accountant with at least 3 years of cost and/or commercial construction accounting experience. This individual will be ultimately responsible for the day-to-day accounting of project financials as well as other duties in a growing construction office.\n",
      "Project accountants will work closely with all members of the regional office team (including project managers, engineers, superintendents and field office coordinators). Responsibilities will include but may not be limited to the following:\n",
      "Project job cost accounting including preparation of owner draws, collection of payments, and subcontractor compliance.\n",
      "Creation and analysis of financial reports.\n",
      "Journal entries and job costs for projects.\n",
      "Assisting with strategic planning/forecasting of project financials.\n",
      "Risk management and notice to owner (NTO) tracking.\n",
      "Cash management and reporting.\n",
      "Assisting with project audits.\n",
      "Support operations staff.\n",
      "Assisting corporate staff with other duties on an as-needed basis.\n",
      "Review owner contracts to understand accounting requirements.\n",
      "Qualifications\n",
      "We are looking for a flexible, detail-oriented team player with the ability to manage multiple tasks, produce quality work, and consistently meet deadlines. The successful candidate will possess:\n",
      "Excellent listening skills and strong oral and written communication skills.\n",
      "The ability to identify, analyze and resolve complex issues.\n",
      "Proficient computer skills in Microsoft Office applications and in accounting cost management software (CMiC or similar).\n",
      "3+ years of experience as a cost accountant, preferably within the construction Industry.\n",
      "Bachelor’s degree in accounting or related field or CCIFP.\n",
      "A strong work ethic and a “can-do anything” attitude.\n",
      "This position is paid on an hourly basis.\n",
      "DPR has been nationally recognized for its strong company culture, based on a well-defined purpose “We Exist to Build Great Things,” and four core values: integrity, enjoyment, uniqueness and ever forward. A flat, title-less organization that empowers people at all levels to make decisions, DPR ranked on FORTUNE’s “100 Best Companies to Work For” list for five consecutive years. For more information, visit http://www.dpr.com .\n"
     ]
    }
   ],
   "source": [
    "print(soup.find(\"div\", id=\"jobDescriptionText\").text)"
   ]
  }
 ],
 "metadata": {
  "kernelspec": {
   "display_name": "Python 3",
   "language": "python",
   "name": "python3"
  },
  "language_info": {
   "codemirror_mode": {
    "name": "ipython",
    "version": 3
   },
   "file_extension": ".py",
   "mimetype": "text/x-python",
   "name": "python",
   "nbconvert_exporter": "python",
   "pygments_lexer": "ipython3",
   "version": "3.8.3"
  }
 },
 "nbformat": 4,
 "nbformat_minor": 4
}
