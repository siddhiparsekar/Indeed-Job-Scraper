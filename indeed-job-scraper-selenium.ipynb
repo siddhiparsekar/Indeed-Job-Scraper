{
 "cells": [
  {
   "cell_type": "markdown",
   "metadata": {},
   "source": [
    "# Indeed Job Scraper - Selenium Version"
   ]
  },
  {
   "cell_type": "code",
   "execution_count": 1,
   "metadata": {},
   "outputs": [],
   "source": [
    "import csv\n",
    "from datetime import datetime\n",
    "from msedge.selenium_tools import Edge, EdgeOptions\n",
    "from selenium.common.exceptions import NoSuchElementException, ElementNotInteractableException"
   ]
  },
  {
   "cell_type": "code",
   "execution_count": 2,
   "metadata": {},
   "outputs": [],
   "source": [
    "def get_url(position, location):\n",
    "    \"\"\"Generate url from position and location\"\"\"\n",
    "    template = 'https://www.indeed.com/jobs?q={}&l={}'\n",
    "    position = position.replace(' ', '+')\n",
    "    location = location.replace(' ', '+')\n",
    "    url = template.format(position, location)\n",
    "    return url"
   ]
  },
  {
   "cell_type": "code",
   "execution_count": 3,
   "metadata": {},
   "outputs": [],
   "source": [
    "def save_data_to_file(records):\n",
    "    \"\"\"Save data to csv file\"\"\"\n",
    "    with open('results.csv', 'w', newline='', encoding='utf-8') as f:\n",
    "        writer = csv.writer(f)\n",
    "        writer.writerow(['JobTitle', 'Company', 'Location', 'PostDate', 'ExtractDate', 'Summary', 'JobUrl'])\n",
    "        writer.writerows(records)"
   ]
  },
  {
   "cell_type": "code",
   "execution_count": 4,
   "metadata": {},
   "outputs": [],
   "source": [
    "def get_record(card):\n",
    "    \"\"\"Extract job data from single card\"\"\"\n",
    "    job_title = card.find_element_by_class_name('jobtitle').text\n",
    "    company = card.find_element_by_class_name('company').text\n",
    "    location = card.find_element_by_class_name('location').text\n",
    "    post_date = card.find_element_by_class_name('date').text\n",
    "    extract_date = datetime.today().strftime('%Y-%m-%d')\n",
    "    summary = card.find_element_by_class_name('summary').text\n",
    "    job_url = card.find_element_by_class_name('jobtitle').get_attribute('href')\n",
    "    return (job_title, company, location, post_date, extract_date, summary, job_url)"
   ]
  },
  {
   "cell_type": "code",
   "execution_count": 5,
   "metadata": {},
   "outputs": [],
   "source": [
    "def get_page_records(cards, job_list, url_set):\n",
    "    \"\"\"Extract all cards from the page\"\"\"\n",
    "    for card in cards:\n",
    "        record = get_record(card)\n",
    "        # add if job title exists and not duplicate\n",
    "        if record[0] and record[-1] not in url_set:\n",
    "            job_list.append(record)\n",
    "            url_set.add(record[-1])"
   ]
  },
  {
   "cell_type": "code",
   "execution_count": 6,
   "metadata": {},
   "outputs": [],
   "source": [
    "def main(position, location):\n",
    "    \"\"\"Run the main program routine\"\"\"\n",
    "    scraped_jobs = []\n",
    "    scraped_urls = set()\n",
    "    \n",
    "    url = get_url(position, location)\n",
    "    \n",
    "    # setup web driver\n",
    "    options = EdgeOptions()\n",
    "    options.use_chromium = True\n",
    "    driver = Edge(options=options)\n",
    "    driver.implicitly_wait(5)\n",
    "    driver.get(url)        \n",
    "    \n",
    "    # extract the job data\n",
    "    while True:\n",
    "        cards = driver.find_elements_by_class_name('jobsearch-SerpJobCard')\n",
    "        get_page_records(cards, scraped_jobs, scraped_urls)\n",
    "        try:\n",
    "            driver.find_element_by_xpath('//a[@aria-label=\"Next\"]').click()\n",
    "        except NoSuchElementException:\n",
    "            break\n",
    "        except ElementNotInteractableException:\n",
    "            driver.find_element_by_id('popover-x').click()  # to handle job notification popup\n",
    "            get_page_records(cards, scraped_jobs, scraped_urls)\n",
    "            continue\n",
    "    \n",
    "    # close driver and save records\n",
    "    driver.quit()\n",
    "    save_data_to_file(scraped_jobs)"
   ]
  },
  {
   "cell_type": "code",
   "execution_count": 7,
   "metadata": {},
   "outputs": [],
   "source": [
    "# run a search\n",
    "main('python developer', 'charlotte nc')"
   ]
  }
 ],
 "metadata": {
  "kernelspec": {
   "display_name": "Python 3",
   "language": "python",
   "name": "python3"
  },
  "language_info": {
   "codemirror_mode": {
    "name": "ipython",
    "version": 3
   },
   "file_extension": ".py",
   "mimetype": "text/x-python",
   "name": "python",
   "nbconvert_exporter": "python",
   "pygments_lexer": "ipython3",
   "version": "3.8.3"
  }
 },
 "nbformat": 4,
 "nbformat_minor": 4
}
